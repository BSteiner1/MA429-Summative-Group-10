{
 "cells": [
  {
   "cell_type": "code",
   "execution_count": 1,
   "id": "16ce73fd",
   "metadata": {},
   "outputs": [],
   "source": [
    "import sys\n",
    "#import os\n",
    "sys.path.append('../')\n",
    "\n",
    "from utils.functions import *"
   ]
  },
  {
   "cell_type": "code",
   "execution_count": 2,
   "id": "5c080029",
   "metadata": {},
   "outputs": [],
   "source": [
    "path = '../Data/Images'"
   ]
  },
  {
   "cell_type": "code",
   "execution_count": 3,
   "id": "a383275e",
   "metadata": {},
   "outputs": [],
   "source": [
    "data = get_data(path)"
   ]
  },
  {
   "cell_type": "code",
   "execution_count": 11,
   "id": "253e86ae",
   "metadata": {},
   "outputs": [
    {
     "data": {
      "text/plain": [
       "array([[[  3,   0,  19],\n",
       "        [102,  94, 118],\n",
       "        [101,  92, 119],\n",
       "        [102,  93, 122],\n",
       "        [102,  93, 124]],\n",
       "\n",
       "       [[  3,   0,  19],\n",
       "        [102,  94, 118],\n",
       "        [102,  93, 120],\n",
       "        [103,  94, 123],\n",
       "        [102,  93, 124]],\n",
       "\n",
       "       [[  3,   0,  19],\n",
       "        [103,  95, 119],\n",
       "        [103,  94, 121],\n",
       "        [104,  95, 124],\n",
       "        [103,  94, 125]],\n",
       "\n",
       "       [[  3,   0,  19],\n",
       "        [103,  95, 119],\n",
       "        [103,  94, 121],\n",
       "        [104,  95, 124],\n",
       "        [103,  94, 125]],\n",
       "\n",
       "       [[  3,   0,  19],\n",
       "        [103,  95, 119],\n",
       "        [102,  93, 120],\n",
       "        [103,  94, 123],\n",
       "        [102,  93, 124]]], dtype=uint8)"
      ]
     },
     "execution_count": 11,
     "metadata": {},
     "output_type": "execute_result"
    }
   ],
   "source": [
    "data[0][0][:5, :5]"
   ]
  },
  {
   "cell_type": "code",
   "execution_count": 14,
   "id": "04b34c21",
   "metadata": {},
   "outputs": [
    {
     "data": {
      "text/plain": [
       "(5, 5, 3)"
      ]
     },
     "execution_count": 14,
     "metadata": {},
     "output_type": "execute_result"
    }
   ],
   "source": [
    "data[0][0][:5, :5].shape"
   ]
  },
  {
   "cell_type": "code",
   "execution_count": null,
   "id": "d9d90f01",
   "metadata": {},
   "outputs": [],
   "source": [
    "def random_crops(data, crops_per_image, crop_size):\n",
    "    \n",
    "    cropped_data = []\n",
    "    \n",
    "    for image, label in data:\n",
    "        for i in range(crops_per_image):\n",
    "            x = random.randint(0,255-crop_size)\n",
    "            y = random.randint(0,255-crop_size)\n",
    "            crop = image[x:x+crop_size, y:y+crop_size]"
   ]
  },
  {
   "cell_type": "code",
   "execution_count": 12,
   "id": "65097998",
   "metadata": {},
   "outputs": [
    {
     "ename": "MemoryError",
     "evalue": "Unable to allocate 1.50 MiB for an array with shape (256, 256, 3) and data type float64",
     "output_type": "error",
     "traceback": [
      "\u001b[1;31m---------------------------------------------------------------------------\u001b[0m",
      "\u001b[1;31mMemoryError\u001b[0m                               Traceback (most recent call last)",
      "Cell \u001b[1;32mIn[12], line 1\u001b[0m\n\u001b[1;32m----> 1\u001b[0m train_images, val_images, test_images, train_labels, val_labels, test_labels \u001b[38;5;241m=\u001b[39m \u001b[43mtrain_val_test_split\u001b[49m\u001b[43m(\u001b[49m\u001b[43mdata\u001b[49m\u001b[43m)\u001b[49m\n",
      "File \u001b[1;32m~\\Documents\\MA429\\MA429-Summative-Group-10\\Notebooks\\..\\utils\\functions.py:74\u001b[0m, in \u001b[0;36mtrain_val_test_split\u001b[1;34m(data)\u001b[0m\n\u001b[0;32m     71\u001b[0m test_labels \u001b[38;5;241m=\u001b[39m labels[num_train \u001b[38;5;241m+\u001b[39m num_val:]\n\u001b[0;32m     73\u001b[0m \u001b[38;5;66;03m# Normalize the training data\u001b[39;00m\n\u001b[1;32m---> 74\u001b[0m train_images \u001b[38;5;241m=\u001b[39m [image\u001b[38;5;241m/\u001b[39m\u001b[38;5;241m255\u001b[39m \u001b[38;5;28;01mfor\u001b[39;00m image \u001b[38;5;129;01min\u001b[39;00m train_images]\n\u001b[0;32m     75\u001b[0m val_images \u001b[38;5;241m=\u001b[39m [image\u001b[38;5;241m/\u001b[39m\u001b[38;5;241m255\u001b[39m \u001b[38;5;28;01mfor\u001b[39;00m image \u001b[38;5;129;01min\u001b[39;00m val_images]\n\u001b[0;32m     76\u001b[0m test_images \u001b[38;5;241m=\u001b[39m [image\u001b[38;5;241m/\u001b[39m\u001b[38;5;241m255\u001b[39m \u001b[38;5;28;01mfor\u001b[39;00m image \u001b[38;5;129;01min\u001b[39;00m test_images]\n",
      "File \u001b[1;32m~\\Documents\\MA429\\MA429-Summative-Group-10\\Notebooks\\..\\utils\\functions.py:74\u001b[0m, in \u001b[0;36m<listcomp>\u001b[1;34m(.0)\u001b[0m\n\u001b[0;32m     71\u001b[0m test_labels \u001b[38;5;241m=\u001b[39m labels[num_train \u001b[38;5;241m+\u001b[39m num_val:]\n\u001b[0;32m     73\u001b[0m \u001b[38;5;66;03m# Normalize the training data\u001b[39;00m\n\u001b[1;32m---> 74\u001b[0m train_images \u001b[38;5;241m=\u001b[39m [\u001b[43mimage\u001b[49m\u001b[38;5;241;43m/\u001b[39;49m\u001b[38;5;241;43m255\u001b[39;49m \u001b[38;5;28;01mfor\u001b[39;00m image \u001b[38;5;129;01min\u001b[39;00m train_images]\n\u001b[0;32m     75\u001b[0m val_images \u001b[38;5;241m=\u001b[39m [image\u001b[38;5;241m/\u001b[39m\u001b[38;5;241m255\u001b[39m \u001b[38;5;28;01mfor\u001b[39;00m image \u001b[38;5;129;01min\u001b[39;00m val_images]\n\u001b[0;32m     76\u001b[0m test_images \u001b[38;5;241m=\u001b[39m [image\u001b[38;5;241m/\u001b[39m\u001b[38;5;241m255\u001b[39m \u001b[38;5;28;01mfor\u001b[39;00m image \u001b[38;5;129;01min\u001b[39;00m test_images]\n",
      "\u001b[1;31mMemoryError\u001b[0m: Unable to allocate 1.50 MiB for an array with shape (256, 256, 3) and data type float64"
     ]
    }
   ],
   "source": [
    "train_images, val_images, test_images, train_labels, val_labels, test_labels = train_val_test_split(data)"
   ]
  },
  {
   "cell_type": "code",
   "execution_count": null,
   "id": "7719beb5",
   "metadata": {},
   "outputs": [],
   "source": []
  }
 ],
 "metadata": {
  "kernelspec": {
   "display_name": "Python 3 (ipykernel)",
   "language": "python",
   "name": "python3"
  },
  "language_info": {
   "codemirror_mode": {
    "name": "ipython",
    "version": 3
   },
   "file_extension": ".py",
   "mimetype": "text/x-python",
   "name": "python",
   "nbconvert_exporter": "python",
   "pygments_lexer": "ipython3",
   "version": "3.9.18"
  }
 },
 "nbformat": 4,
 "nbformat_minor": 5
}
