{
 "cells": [
  {
   "cell_type": "code",
   "execution_count": 1,
   "id": "24fcd4c2",
   "metadata": {},
   "outputs": [],
   "source": [
    "import os\n",
    "from PIL import Image\n",
    "import matplotlib.pyplot as plt\n",
    "import numpy as np\n",
    "import pandas as pd\n",
    "import csv"
   ]
  },
  {
   "cell_type": "markdown",
   "id": "f5b76cbe",
   "metadata": {},
   "source": [
    "## Extract the images as pixel values"
   ]
  },
  {
   "cell_type": "code",
   "execution_count": 2,
   "id": "ddfc396c",
   "metadata": {},
   "outputs": [],
   "source": [
    "path = '../Data/Images'\n",
    "folders = os.listdir(path)"
   ]
  },
  {
   "cell_type": "code",
   "execution_count": 4,
   "id": "60a898b1",
   "metadata": {},
   "outputs": [],
   "source": [
    "image_label_tuples = []"
   ]
  },
  {
   "cell_type": "code",
   "execution_count": 5,
   "id": "e8b38b14",
   "metadata": {},
   "outputs": [],
   "source": [
    "for folder in folders:\n",
    "    \n",
    "    # Label as healthy or diseased\n",
    "    if folder.endswith('healthy'):\n",
    "        label = 1\n",
    "    else:\n",
    "        label = 0\n",
    "    \n",
    "    # Iterate through the folders\n",
    "    folder_images = os.listdir(path + '/' + folder)\n",
    "    folder_path = path + '/' + folder + '/'\n",
    "    \n",
    "    # Extract images from each folder\n",
    "    for image in folder_images:\n",
    "        image_path = os.path.join(folder_path, image)\n",
    "        image_path = Image.open(image_path)\n",
    "        \n",
    "        # Convert image to pixel values\n",
    "        pixel_values = np.array(image_path)\n",
    "        \n",
    "        # Add image and label\n",
    "        image_label_tuples.append((pixel_values, label))"
   ]
  },
  {
   "cell_type": "code",
   "execution_count": 6,
   "id": "b5870672",
   "metadata": {},
   "outputs": [
    {
     "data": {
      "text/plain": [
       "10646"
      ]
     },
     "execution_count": 6,
     "metadata": {},
     "output_type": "execute_result"
    }
   ],
   "source": [
    "len(image_label_tuples)"
   ]
  },
  {
   "cell_type": "markdown",
   "id": "264abdea",
   "metadata": {},
   "source": [
    "### Count the number of healthy vs diseased"
   ]
  },
  {
   "cell_type": "code",
   "execution_count": 7,
   "id": "f57e5dac",
   "metadata": {},
   "outputs": [],
   "source": [
    "count = 0\n",
    "\n",
    "for tuple in image_label_tuples:\n",
    "    if tuple[1] == 1:\n",
    "        count += 1\n",
    "    else:\n",
    "        None"
   ]
  },
  {
   "cell_type": "code",
   "execution_count": 23,
   "id": "1f76ec3e",
   "metadata": {},
   "outputs": [
    {
     "data": {
      "image/png": "[encoded data removed]",
      "text/plain": [
       "<Figure size 640x480 with 1 Axes>"
      ]
     },
     "metadata": {},
     "output_type": "display_data"
    }
   ],
   "source": [
    "labels = ['Healthy', 'Diseased']\n",
    "values = [count, len(image_label_tuples) - count]\n",
    "\n",
    "total = len(image_label_tuples)\n",
    "percentages = [(count/total), (total-count)/total]\n",
    "percentages = np.round(percentages,2) *100\n",
    "\n",
    "# Plotting the bar chart\n",
    "plt.bar(labels, values, width = 0.7, color = '#d30e29')\n",
    "\n",
    "for i in range(2):\n",
    "    plt.text(i, values[i]/2, str(percentages[i]) + '%', ha='center', fontsize = 12)\n",
    "\n",
    "plt.ylabel('Count')\n",
    "plt.title('Label Distribution')\n",
    "plt.savefig('../Figures/Label Distribution')\n",
    "plt.show()"
   ]
  },
  {
   "cell_type": "code",
   "execution_count": null,
   "id": "c8436734",
   "metadata": {},
   "outputs": [],
   "source": []
  }
 ],
 "metadata": {
  "kernelspec": {
   "display_name": "Python 3 (ipykernel)",
   "language": "python",
   "name": "python3"
  },
  "language_info": {
   "codemirror_mode": {
    "name": "ipython",
    "version": 3
   },
   "file_extension": ".py",
   "mimetype": "text/x-python",
   "name": "python",
   "nbconvert_exporter": "python",
   "pygments_lexer": "ipython3",
   "version": "3.9.18"
  }
 },
 "nbformat": 4,
 "nbformat_minor": 5
}
